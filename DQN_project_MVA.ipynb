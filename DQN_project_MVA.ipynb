{
 "cells": [
  {
   "cell_type": "markdown",
   "metadata": {},
   "source": [
    "**You may need to install [OpenCV](https://pypi.python.org/pypi/opencv-python) and [scikit-video](http://www.scikit-video.org/stable/).**"
   ]
  },
  {
   "cell_type": "code",
   "execution_count": 1,
   "metadata": {},
   "outputs": [
    {
     "name": "stderr",
     "output_type": "stream",
     "text": [
      "C:\\Users\\Julien\\Anaconda3\\lib\\site-packages\\h5py\\__init__.py:36: FutureWarning: Conversion of the second argument of issubdtype from `float` to `np.floating` is deprecated. In future, it will be treated as `np.float64 == np.dtype(float).type`.\n",
      "  from ._conv import register_converters as _register_converters\n",
      "Using TensorFlow backend.\n"
     ]
    }
   ],
   "source": [
    "import keras\n",
    "import numpy as np\n",
    "import io\n",
    "import base64\n",
    "from IPython.display import HTML\n",
    "import skvideo\n",
    "skvideo.setFFmpegPath(\"C:/FFmpeg/bin\")\n",
    "import skvideo.io\n",
    "import cv2\n",
    "import json\n",
    "import random\n",
    "\n",
    "from keras.models import Sequential,model_from_json\n",
    "from keras.layers.core import Dense\n",
    "from keras.optimizers import sgd\n",
    "from keras.layers import Conv2D, MaxPooling2D, Activation, AveragePooling2D,Reshape,BatchNormalization, Flatten"
   ]
  },
  {
   "cell_type": "markdown",
   "metadata": {},
   "source": [
    "# MiniProject #3: Deep Reinforcement Learning"
   ]
  },
  {
   "cell_type": "markdown",
   "metadata": {},
   "source": [
    "__Notations__: $E_p$ is the expectation under probability $p$. Please justify each of your answer and widely comment your code."
   ]
  },
  {
   "cell_type": "markdown",
   "metadata": {},
   "source": [
    "# Context"
   ]
  },
  {
   "cell_type": "markdown",
   "metadata": {},
   "source": [
    "In a reinforcement learning algorithm, we modelize each step $t$ as an action $a_t$ obtained from a state $s_t$, i.e. $\\{(a_{t},s_{t})_{t\\leq T}\\}$ having the Markov property. We consider a discount factor $\\gamma \\in [0,1]$ that ensures convergence. The goal is to find among all the policies $\\pi$, one that maximizes the expected reward:\n",
    "\n",
    "\\begin{equation*}\n",
    "R(\\pi)=\\sum_{t\\leq T}E_{p^{\\pi}}[\\gamma^t r(s_{t},a_{t})] \\> ,\n",
    "\\end{equation*}\n",
    "\n",
    "where: \n",
    "\\begin{equation*}p^{\\pi}(a_{0},a_{1},s_{1},...,a_{T},s_{T})=p(a_{0})\\prod_{t=1}^{T}\\pi(a_{t}|s_{t})p(s_{t+1}|s_{t},a_{t}) \\> .\n",
    "\\end{equation*}\n",
    "\n",
    "We note the $Q$-function:\n",
    "\n",
    "\\begin{equation*}Q^\\pi(s,a)=E_{p^{\\pi}}[\\sum_{t\\leq T}\\gamma^{t}r(s_{t},a_{t})|s_{0}=s,a_{0}=a] \\> .\n",
    "\\end{equation*}\n",
    "\n",
    "Thus, the optimal Q function is:\n",
    "\\begin{equation*}\n",
    "Q^*(s,a)=\\max_{\\pi}Q^\\pi(s,a) \\> .\n",
    "\\end{equation*}\n",
    "\n",
    "In this project, we will apply the deep reinforcement learning techniques to a simple game: an agent will have to learn from scratch a policy that will permit it maximizing a reward."
   ]
  },
  {
   "cell_type": "markdown",
   "metadata": {},
   "source": [
    "## The environment, the agent and the game"
   ]
  },
  {
   "cell_type": "markdown",
   "metadata": {},
   "source": [
    "### The environment"
   ]
  },
  {
   "cell_type": "markdown",
   "metadata": {},
   "source": [
    "```Environment``` is an abstract class that represents the states, rewards, and actions to obtain the new state."
   ]
  },
  {
   "cell_type": "code",
   "execution_count": 2,
   "metadata": {},
   "outputs": [],
   "source": [
    "class Environment(object):\n",
    "    def __init__(self):\n",
    "        pass\n",
    "\n",
    "    def act(self, act):\n",
    "        \"\"\"\n",
    "        One can act on the environment and obtain its reaction:\n",
    "        - the new state\n",
    "        - the reward of the new state\n",
    "        - should we continue the game?\n",
    "\n",
    "        :return: state, reward, game_over\n",
    "        \"\"\"\n",
    "        pass\n",
    "\n",
    "\n",
    "    def reset(self):\n",
    "        \"\"\"\n",
    "        Reinitialize the environment to a random state and returns\n",
    "        the original state\n",
    "\n",
    "        :return: state\n",
    "        \"\"\"\n",
    "        pass\n",
    "    \n",
    "    def draw(self):\n",
    "        \"\"\"\n",
    "        Visualize in the console or graphically the current state\n",
    "        \"\"\"\n",
    "        pass"
   ]
  },
  {
   "cell_type": "markdown",
   "metadata": {},
   "source": [
    "The method ```act``` allows to act on the environment at a given state $s_t$ (stored internally), via action $a_t$. The method will return the new state $s_{t+1}$, the reward $r(s_{t},a_{t})$ and determines if $t\\leq T$ (*game_over*).\n",
    "\n",
    "The method ```reset``` simply reinitializes the environment to a random state $s_0$.\n",
    "\n",
    "The method ```draw``` displays the current state $s_t$ (this is useful to check the behavior of the Agent).\n",
    "\n",
    "We modelize $s_t$ as a tensor, while $a_t$ is an integer."
   ]
  },
  {
   "cell_type": "markdown",
   "metadata": {},
   "source": [
    "### The Agent"
   ]
  },
  {
   "cell_type": "markdown",
   "metadata": {},
   "source": [
    "The goal of the ```Agent``` is to interact with the ```Environment``` by proposing actions $a_t$ obtained from a given state $s_t$ to attempt to maximize its __reward__ $r(s_t,a_t)$. We propose the following abstract class:"
   ]
  },
  {
   "cell_type": "code",
   "execution_count": 3,
   "metadata": {},
   "outputs": [],
   "source": [
    "class Agent(object):\n",
    "    def __init__(self, epsilon=0.1, n_action=4):\n",
    "        self.epsilon = epsilon\n",
    "        self.n_action = n_action\n",
    "    \n",
    "    def set_epsilon(self,e):\n",
    "        self.epsilon = e\n",
    "\n",
    "    def act(self,s,train=True):\n",
    "        \"\"\" This function should return the next action to do:\n",
    "        an integer between 0 and 4 (not included) with a random exploration of epsilon\"\"\"\n",
    "        if train:\n",
    "            if np.random.rand() <= self.epsilon:\n",
    "                a = np.random.randint(0, self.n_action, size=1)[0]\n",
    "            else:\n",
    "                a = self.learned_act(s)\n",
    "        else: # in some cases, this can improve the performance.. remove it if poor performances\n",
    "            a = self.learned_act(s)\n",
    "\n",
    "        return a\n",
    "\n",
    "    def learned_act(self,s):\n",
    "        \"\"\" Act via the policy of the agent, from a given state s\n",
    "        it proposes an action a\"\"\"\n",
    "        pass\n",
    "\n",
    "    def reinforce(self, s, n_s, a, r, game_over_):\n",
    "        \"\"\" This function is the core of the learning algorithm. \n",
    "        It takes as an input the current state s_, the next state n_s_\n",
    "        the action a_ used to move from s_ to n_s_ and the reward r_.\n",
    "        \n",
    "        Its goal is to learn a policy.\n",
    "        \"\"\"\n",
    "        pass\n",
    "\n",
    "    def save(self):\n",
    "        \"\"\" This function returns basic stats if applicable: the\n",
    "        loss and/or the model\"\"\"\n",
    "        pass\n",
    "\n",
    "    def load(self):\n",
    "        \"\"\" This function allows to restore a model\"\"\"\n",
    "        pass"
   ]
  },
  {
   "cell_type": "markdown",
   "metadata": {},
   "source": [
    "***\n",
    "__Question 1__:\n",
    "Explain the function act. Why is ```epsilon``` essential?"
   ]
  },
  {
   "cell_type": "markdown",
   "metadata": {},
   "source": [
    "> Given a certain representation of the environment, the function act choose an action that should be performed by the agent. The possible actions could be divided into two sets: exploration and reward-based actions. \n",
    ">\n",
    "> The epsilon is essential because it's value will basically decide which set of action to undertake. We randomly generate a number between 0 and 1 and if this number is less than epsilon, the agent will choose a random action (exploration) and if not the agent will choose the action that maximise the $Q$ value. \n",
    ">\n",
    "> Having an exploration set of actions is necessary for the agent not to be blocked on a certain set of actions previously learned that might not be optimal to attain the objective. \n",
    ">\n",
    "> The trade-off when choosing the value of epsilon is as follows: for a value of epsilon that is too low, the agent will keep choosing random action and won't learn anything and for a value that is too high, the agent won't explore enough and will be stuck in a set of learned actions. "
   ]
  },
  {
   "cell_type": "markdown",
   "metadata": {},
   "source": [
    "\n",
    "### The Game"
   ]
  },
  {
   "cell_type": "markdown",
   "metadata": {},
   "source": [
    "The ```Agent``` and the ```Environment``` work in an interlaced way as in the following (take some time to understand this code as it is the core of the project)\n",
    "\n",
    "```python\n",
    "\n",
    "epoch = 300\n",
    "env = Environment()\n",
    "agent = Agent()\n",
    "\n",
    "\n",
    "# Number of won games\n",
    "score = 0\n",
    "loss = 0\n",
    "\n",
    "\n",
    "for e in range(epoch):\n",
    "    # At each epoch, we restart to a fresh game and get the initial state\n",
    "    state = env.reset()\n",
    "    # This assumes that the games will end\n",
    "    game_over = False\n",
    "\n",
    "    win = 0\n",
    "    lose = 0\n",
    "    \n",
    "    while not game_over:\n",
    "        # The agent performs an action\n",
    "        action = agent.act(state)\n",
    "\n",
    "        # Apply an action to the environment, get the next state, the reward\n",
    "        # and if the games end\n",
    "        prev_state = state\n",
    "        state, reward, game_over = env.act(action)\n",
    "\n",
    "        # Update the counters\n",
    "        if reward > 0:\n",
    "            win = win + reward\n",
    "        if reward < 0:\n",
    "            lose = lose -reward\n",
    "\n",
    "        # Apply the reinforcement strategy\n",
    "        loss = agent.reinforce(prev_state, state,  action, reward, game_over)\n",
    "\n",
    "    # Save as a mp4\n",
    "    if e % 10 == 0:\n",
    "        env.draw(e)\n",
    "\n",
    "    # Update stats\n",
    "    score += win-lose\n",
    "\n",
    "    print(\"Epoch {:03d}/{:03d} | Loss {:.4f} | Win/lose count {}/{} ({})\"\n",
    "          .format(e, epoch, loss, win, lose, win-lose))\n",
    "    agent.save()\n",
    "```"
   ]
  },
  {
   "cell_type": "markdown",
   "metadata": {},
   "source": [
    "# The game, *eat cheese*"
   ]
  },
  {
   "cell_type": "markdown",
   "metadata": {},
   "source": [
    "A rat runs on an island and tries to eat as much as possible. The island is subdivided into $N\\times N$ cells, in which there are cheese (+0.5) and poisonous cells (-1). The rat has a visibility of 2 cells (thus it can see $5^2$ cells). The rat is given a time $T$ to accumulate as much food as possible. It can perform 4 actions: going up, down, left, right. \n",
    "\n",
    "The goal is to code an agent to solve this task that will learn by trial and error. We propose the following environment:"
   ]
  },
  {
   "cell_type": "code",
   "execution_count": 4,
   "metadata": {},
   "outputs": [],
   "source": [
    "class Environment(object):\n",
    "    def __init__(self, grid_size=10, max_time=500, temperature=0.1):\n",
    "        grid_size = grid_size+4\n",
    "        self.grid_size = grid_size\n",
    "        self.max_time = max_time\n",
    "        self.temperature = temperature\n",
    "\n",
    "        #board on which one plays\n",
    "        self.board = np.zeros((grid_size,grid_size))\n",
    "        self.position = np.zeros((grid_size,grid_size))\n",
    "\n",
    "        # coordinate of the cat\n",
    "        self.x = 0\n",
    "        self.y = 1\n",
    "\n",
    "        # self time\n",
    "        self.t = 0\n",
    "\n",
    "        self.scale=16\n",
    "\n",
    "        self.to_draw = np.zeros((max_time+2, grid_size*self.scale, grid_size*self.scale, 3))\n",
    "\n",
    "\n",
    "    def draw(self,e):\n",
    "        skvideo.io.vwrite(str(e) + '.mp4', self.to_draw)\n",
    "\n",
    "    def get_frame(self,t):\n",
    "        b = np.zeros((self.grid_size,self.grid_size,3))+128\n",
    "        b[self.board>0,0] = 256\n",
    "        b[self.board < 0, 2] = 256\n",
    "        b[self.x,self.y,:]=256\n",
    "        b[-2:,:,:]=0\n",
    "        b[:,-2:,:]=0\n",
    "        b[:2,:,:]=0\n",
    "        b[:,:2,:]=0\n",
    "        \n",
    "        b =  cv2.resize(b, None, fx=self.scale, fy=self.scale, interpolation=cv2.INTER_NEAREST)\n",
    "\n",
    "        self.to_draw[t,:,:,:]=b\n",
    "\n",
    "\n",
    "    def act(self, action):\n",
    "        \"\"\"This function returns the new state, reward and decides if the\n",
    "        game ends.\"\"\"\n",
    "\n",
    "        self.get_frame(int(self.t))\n",
    "\n",
    "        self.position = np.zeros((self.grid_size, self.grid_size))\n",
    "\n",
    "        self.position[0:2,:]= -1\n",
    "        self.position[:,0:2] = -1\n",
    "        self.position[-2:, :] = -1\n",
    "        self.position[-2:, :] = -1\n",
    "\n",
    "        self.position[self.x, self.y] = 1\n",
    "        if action == 0:\n",
    "            if self.x == self.grid_size-3:\n",
    "                self.x = self.x-1\n",
    "            else:\n",
    "                self.x = self.x + 1\n",
    "        elif action == 1:\n",
    "            if self.x == 2:\n",
    "                self.x = self.x+1\n",
    "            else:\n",
    "                self.x = self.x-1\n",
    "        elif action == 2:\n",
    "            if self.y == self.grid_size - 3:\n",
    "                self.y = self.y - 1\n",
    "            else:\n",
    "                self.y = self.y + 1\n",
    "        elif action == 3:\n",
    "            if self.y == 2:\n",
    "                self.y = self.y + 1\n",
    "            else:\n",
    "                self.y = self.y - 1\n",
    "        else:\n",
    "            RuntimeError('Error: action not recognized')\n",
    "\n",
    "        self.t = self.t + 1\n",
    "        reward = self.board[self.x, self.y]\n",
    "        self.board[self.x, self.y] = 0\n",
    "        game_over = self.t > self.max_time\n",
    "        state = np.concatenate((self.board.reshape(self.grid_size, self.grid_size,1),\n",
    "                        self.position.reshape(self.grid_size, self.grid_size,1)),axis=2)\n",
    "        state = state[self.x-2:self.x+3,self.y-2:self.y+3,:]\n",
    "\n",
    "        return state, reward, game_over\n",
    "\n",
    "    def reset(self):\n",
    "        \"\"\"This function resets the game and returns the initial state\"\"\"\n",
    "\n",
    "        self.x = np.random.randint(3, self.grid_size-3, size=1)[0]\n",
    "        self.y = np.random.randint(3, self.grid_size-3, size=1)[0]\n",
    "\n",
    "\n",
    "        bonus = 0.5*np.random.binomial(1,self.temperature,size=self.grid_size**2)\n",
    "        bonus = bonus.reshape(self.grid_size,self.grid_size)\n",
    "\n",
    "        malus = -1.0*np.random.binomial(1,self.temperature,size=self.grid_size**2)\n",
    "        malus = malus.reshape(self.grid_size, self.grid_size)\n",
    "\n",
    "        self.to_draw = np.zeros((self.max_time+2, self.grid_size*self.scale, self.grid_size*self.scale, 3))\n",
    "\n",
    "\n",
    "        malus[bonus>0]=0\n",
    "\n",
    "        self.board = bonus + malus\n",
    "\n",
    "        self.position = np.zeros((self.grid_size, self.grid_size))\n",
    "        self.position[0:2,:]= -1\n",
    "        self.position[:,0:2] = -1\n",
    "        self.position[-2:, :] = -1\n",
    "        self.position[-2:, :] = -1\n",
    "        self.board[self.x,self.y] = 0\n",
    "        self.t = 0\n",
    "\n",
    "        state = np.concatenate((\n",
    "                               self.board.reshape(self.grid_size, self.grid_size,1),\n",
    "                        self.position.reshape(self.grid_size, self.grid_size,1)),axis=2)\n",
    "\n",
    "        state = state[self.x - 2:self.x + 3, self.y - 2:self.y + 3, :]\n",
    "        return state"
   ]
  },
  {
   "cell_type": "markdown",
   "metadata": {},
   "source": [
    "The following elements are important because they correspond to the hyper parameters for this project:"
   ]
  },
  {
   "cell_type": "code",
   "execution_count": 5,
   "metadata": {},
   "outputs": [],
   "source": [
    "# parameters\n",
    "size = 13\n",
    "T=200\n",
    "temperature=0.3\n",
    "epochs_train=30 # set small when debugging\n",
    "epochs_test=30 # set small when debugging\n",
    "\n",
    "# display videos\n",
    "def display_videos(name):\n",
    "    video = io.open(name, 'r+b').read()\n",
    "    encoded = base64.b64encode(video)\n",
    "    return '''<video alt=\"test\" controls>\n",
    "                <source src=\"data:video/mp4;base64,{0}\" type=\"video/mp4\" />\n",
    "             </video>'''.format(encoded.decode('ascii'))"
   ]
  },
  {
   "cell_type": "markdown",
   "metadata": {},
   "source": [
    "__Question 2__ Explain the use of the arrays ```position``` and ```board```."
   ]
  },
  {
   "cell_type": "markdown",
   "metadata": {},
   "source": [
    ">Position is the matrix that represents the position of the rat at any given time. It also defines what moves the rat can do. >The cell with value 1 correspond to the position of the rat. The cells that borders the rat are set to -1. All the other cells >are set to 0.\n",
    ">\n",
    ">Board is a view of the environment where we find the rewards. The cheese cells are set to 0,5 and the poisonous cells are set >to -1. The neutral cells are set to 0. 0,5, -1 and 0 are the three different types of rewards."
   ]
  },
  {
   "cell_type": "markdown",
   "metadata": {},
   "source": [
    "## Random Agent"
   ]
  },
  {
   "cell_type": "markdown",
   "metadata": {},
   "source": [
    "***\n",
    "__Question 3__ Implement a random Agent (only ```learned_act``` needs to be implemented):"
   ]
  },
  {
   "cell_type": "code",
   "execution_count": 6,
   "metadata": {},
   "outputs": [],
   "source": [
    "class RandomAgent(Agent):\n",
    "    def __init__(self):\n",
    "        super(RandomAgent, self).__init__()\n",
    "        pass\n",
    "\n",
    "    def learned_act(self, s):\n",
    "        return random.randint(0,3)"
   ]
  },
  {
   "cell_type": "markdown",
   "metadata": {},
   "source": [
    "***\n",
    "***\n",
    "__Question 4__ Visualize the game moves. You need to fill in the following function for the evaluation:"
   ]
  },
  {
   "cell_type": "code",
   "execution_count": 7,
   "metadata": {},
   "outputs": [],
   "source": [
    "def test(agent,env,epochs,prefix=''):\n",
    "    # Number of won games\n",
    "    score = 0\n",
    "        \n",
    "    for e in range(epochs):\n",
    "        ##### FILL IN HERE\n",
    "        #Initilise variables\n",
    "        win = 0\n",
    "        lose = 0\n",
    "        game_over = False\n",
    "        \n",
    "        #Reset the state for each epoch \n",
    "        state = env.reset()\n",
    "        \n",
    "        #GAME\n",
    "        while not game_over:\n",
    "            #Define an action\n",
    "            action = agent.learned_act(state) \n",
    "            \n",
    "            #An action is undertaken: a new state and a reward are given.Check if game is not over \n",
    "            state, reward, game_over = env.act(action)\n",
    "            \n",
    "            #Apply rewards\n",
    "            if reward > 0:\n",
    "                win = win + reward\n",
    "            if reward < 0:\n",
    "                lose = lose -reward\n",
    "                \n",
    "        # Save as a mp4\n",
    "        env.draw(prefix+str(e))\n",
    "\n",
    "        # Update stats\n",
    "        score = score + win-lose\n",
    "\n",
    "        print(\"Win/lose count {}/{}. Average score ({})\"\n",
    "              .format(win, lose, score/(1+e)))\n",
    "    print('Final score: '+str(score/epochs))"
   ]
  },
  {
   "cell_type": "code",
   "execution_count": 8,
   "metadata": {},
   "outputs": [
    {
     "name": "stdout",
     "output_type": "stream",
     "text": [
      "Win/lose count 8.5/12.0. Average score (-3.5)\n",
      "Win/lose count 5.5/10.0. Average score (-4.0)\n",
      "Win/lose count 9.0/14.0. Average score (-4.333333333333333)\n",
      "Win/lose count 8.0/15.0. Average score (-5.0)\n",
      "Win/lose count 15.0/16.0. Average score (-4.2)\n",
      "Win/lose count 7.0/21.0. Average score (-5.833333333333333)\n",
      "Win/lose count 6.5/9.0. Average score (-5.357142857142857)\n",
      "Win/lose count 11.0/15.0. Average score (-5.1875)\n",
      "Win/lose count 12.0/11.0. Average score (-4.5)\n",
      "Win/lose count 13.5/22.0. Average score (-4.9)\n",
      "Win/lose count 7.5/10.0. Average score (-4.681818181818182)\n",
      "Win/lose count 8.5/7.0. Average score (-4.166666666666667)\n",
      "Win/lose count 9.0/15.0. Average score (-4.3076923076923075)\n",
      "Win/lose count 11.0/19.0. Average score (-4.571428571428571)\n",
      "Win/lose count 10.5/14.0. Average score (-4.5)\n",
      "Win/lose count 3.5/12.0. Average score (-4.75)\n",
      "Win/lose count 9.5/12.0. Average score (-4.617647058823529)\n",
      "Win/lose count 3.0/15.0. Average score (-5.027777777777778)\n",
      "Win/lose count 9.5/18.0. Average score (-5.2105263157894735)\n",
      "Win/lose count 11.0/15.0. Average score (-5.15)\n",
      "Win/lose count 8.0/24.0. Average score (-5.666666666666667)\n",
      "Win/lose count 10.0/12.0. Average score (-5.5)\n",
      "Win/lose count 9.0/10.0. Average score (-5.304347826086956)\n",
      "Win/lose count 7.0/22.0. Average score (-5.708333333333333)\n",
      "Win/lose count 14.5/20.0. Average score (-5.7)\n",
      "Win/lose count 11.0/14.0. Average score (-5.596153846153846)\n",
      "Win/lose count 13.0/15.0. Average score (-5.462962962962963)\n",
      "Win/lose count 11.0/22.0. Average score (-5.660714285714286)\n",
      "Win/lose count 12.5/15.0. Average score (-5.551724137931035)\n",
      "Win/lose count 13.5/14.0. Average score (-5.383333333333334)\n",
      "Final score: -5.383333333333334\n"
     ]
    },
    {
     "data": {
      "text/html": [
       "<video alt=\"test\" controls>\n",
       "                <source src=\"data:video/mp4;base64,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\" type=\"video/mp4\" />\n",
       "             </video>"
      ],
      "text/plain": [
       "<IPython.core.display.HTML object>"
      ]
     },
     "execution_count": 8,
     "metadata": {},
     "output_type": "execute_result"
    }
   ],
   "source": [
    "# Initialize the game\n",
    "env = Environment(grid_size=size, max_time=T,temperature=temperature)\n",
    "\n",
    "# Initialize the agent!\n",
    "agent = RandomAgent()\n",
    "\n",
    "test(agent,env,epochs_test,prefix='random')\n",
    "HTML(display_videos('random0.mp4'))"
   ]
  },
  {
   "cell_type": "markdown",
   "metadata": {},
   "source": [
    "***\n",
    "## DQN"
   ]
  },
  {
   "cell_type": "markdown",
   "metadata": {},
   "source": [
    "Let us assume here that $T=\\infty$.\n",
    "\n",
    "***\n",
    "__Question 5__ Let $\\pi$ be a policy, show that:\n",
    "\n",
    "\\begin{equation*}\n",
    "Q^{\\pi}(s,a)=E_{(s',a')\\sim p(.|s,a)}[r(s,a)+\\gamma Q^{\\pi}(s',a')]\n",
    "\\end{equation*}\n",
    "\n",
    "Then, show that for the optimal policy $\\pi^*$ (we assume its existence), the following holds: \n",
    "\n",
    "\\begin{equation*}\n",
    "Q^{*}(s,a)=E_{s'\\sim \\pi^*(.|s,a)}[r(s,a)+\\gamma\\max_{a'}Q^{*}(s',a')].\n",
    "\\end{equation*}\n",
    "Finally, deduce that a plausible objective is:\n",
    "\n",
    "\\begin{equation*}\n",
    "\\mathcal{L}(\\theta)=E_{s' \\sim \\pi^*(.|s,a)}\\Vert r+\\gamma\\max\\max_{a'}Q(s',a',\\theta)-Q(s,a,\\theta)\\Vert^{2}.\n",
    "\\end{equation*}\n"
   ]
  },
  {
   "cell_type": "markdown",
   "metadata": {},
   "source": [
    ">Question 5.1:\n",
    ">\n",
    ">Let $Gt = \\sum_{k=0}^{\\infty}{\\gamma^kR_{t+k+1}}$ be the return\n",
    ">$Q^{\\pi}(s,a)=E_{\\pi}[G_{t} | S_{t}=s, A_{t} =a]$\n",
    ">\n",
    ">$Q^{\\pi}(s,a)=E_{\\pi}[r(s,a) + \\sum_{k=1}^{\\infty}{\\gamma^kR_{t+k+1}} | S_{t}=s, A_{t} =a]$ $Q^{\\pi}(s,a)=E_{\\pi}[r(s,a) + \\gamma\\sum_{k=1}^{\\infty}{\\gamma^{k-1}R_{t+k+1}} | S_{t}=s, A_{t} =a]$ $Q^{\\pi}(s,a)=E_{\\pi}[r(s,a) + \\gamma\\sum_{k=0}^{\\infty}{\\gamma^{k}R_{t+k+2}} | S_{t}=s, A_{t} =a]$ $Q^{\\pi}(s,a)=E_{\\pi}[r(s,a) + \\gamma G_{t+1} | S_{t}=s, A_{t} =a]$ $Q^{\\pi}(s,a)=E_{\\pi}[r(s,a) + \\gamma E_{\\pi}[G_{t+1}  | S_{t}=s', A_{t} =a'] | S_{t}=s, A_{t} =a]$ $Q^{\\pi}(s,a)=E_{\\pi}[r(s,a) + \\gamma Q^{\\pi}(s',a')| S_{t}=s, A_{t} =a]$ $Q^{\\pi}(s,a)=E_{(s',a')\\sim p(.|s,a)}[r(s,a)+\\gamma Q^{\\pi}(s',a')]$\n",
    "\n",
    ">Question 5.2:\n",
    ">\n",
    ">We have $a=\\pi^{*}(s)$, and $s' \\sim >p(.|s,a)$ from the original state $(s,a)$ because $\\pi^{*}$ is  deterministic.This gives us $a'=\\pi^{*}(s')$, $s'$ that is sampled from a probability distribution depending on the environment.\n",
    ">\n",
    ">Thus, $Q^{\\pi}(s,a)=E_{s'\\sim p(.|s,a)}[r(s,a)+\\gamma Q^{\\pi}(s',\\pi^{*}(s'))]=E_{s'\\sim p(.|s,a)}[r(s,a)+\\gamma\\max_{a'}Q^{*}(s',a')]$\n",
    "\n",
    ">Question 5.3:\n",
    ">\n",
    "> Using a neural network we approximate the state value function Q(s,a,$\\theta$), and an oracle of the best posible action to take : $\\gamma r+ max_{a'}Q(s',a',\\theta)$. We minimise the mean squared error at each step."
   ]
  },
  {
   "cell_type": "markdown",
   "metadata": {},
   "source": [
    "***\n",
    "The DQN-learning algorithm relies on these derivations to train the parameters $\\theta$ of a Deep Neural Network:\n",
    "\n",
    "1. At the state $s_t$, select the action $a_t$ with best reward using $Q_t$ and store the results;\n",
    "\n",
    "2. Obtain the new state $s_{t+1}$ from the environment $p$;\n",
    "\n",
    "3. Store $(s_t,a_t,s_{t+1})$;\n",
    "\n",
    "4. Obtain $Q_{t+1}$ by minimizing  $\\mathcal{L}$ from a recovered batch from the previously stored results.\n",
    "\n",
    "***\n",
    "__Question 6__ Implement the class ```Memory``` that stores moves (in a replay buffer) via ```remember``` and provides a ```random_access``` to these. Specify a maximum memory size to avoid side effects. You can for example use a ```list()``` and set by default ```max_memory=100```."
   ]
  },
  {
   "cell_type": "code",
   "execution_count": 9,
   "metadata": {},
   "outputs": [],
   "source": [
    "class Memory(object):\n",
    "    def __init__(self, max_memory=100):\n",
    "        self.max_memory = max_memory\n",
    "        self.memory = list()\n",
    "\n",
    "    def remember(self, m):\n",
    "        self.memory = self.memory[1-self.max_memory:] + [m]\n",
    "\n",
    "    def random_access(self):\n",
    "        return self.memory[np.random.randint(len(self.memory))]"
   ]
  },
  {
   "cell_type": "markdown",
   "metadata": {},
   "source": [
    "***\n",
    "The pipeline we will use for training is given below:"
   ]
  },
  {
   "cell_type": "code",
   "execution_count": 10,
   "metadata": {},
   "outputs": [],
   "source": [
    "def train(agent,env,epoch,prefix=''):\n",
    "    # Number of won games\n",
    "    score = 0\n",
    "    loss = 0\n",
    "\n",
    "    for e in range(epoch):\n",
    "        # At each epoch, we restart to a fresh game and get the initial state\n",
    "        state = env.reset()\n",
    "        # This assumes that the games will terminate\n",
    "        game_over = False\n",
    "\n",
    "        win = 0\n",
    "        lose = 0\n",
    "\n",
    "        while not game_over:\n",
    "            # The agent performs an action\n",
    "            action = agent.act(state)\n",
    "\n",
    "            # Apply an action to the environment, get the next state, the reward\n",
    "            # and if the games end\n",
    "            prev_state = state\n",
    "            state, reward, game_over = env.act(action)\n",
    "\n",
    "            # Update the counters\n",
    "            if reward > 0:\n",
    "                win = win + reward\n",
    "            if reward < 0:\n",
    "                lose = lose -reward\n",
    "\n",
    "            # Apply the reinforcement strategy\n",
    "            loss = agent.reinforce(prev_state, state,  action, reward, game_over)\n",
    "\n",
    "        # Save as a mp4\n",
    "        if e % 10 == 0:\n",
    "            env.draw(prefix+str(e))\n",
    "\n",
    "        # Update stats\n",
    "        score += win-lose\n",
    "\n",
    "        print(\"Epoch {:03d}/{:03d} | Loss {:.4f} | Win/lose count {}/{} ({})\"\n",
    "              .format(e, epoch, loss, win, lose, win-lose))\n",
    "        agent.save(name_weights=prefix+'model.h5',name_model=prefix+'model.json')"
   ]
  },
  {
   "cell_type": "markdown",
   "metadata": {},
   "source": [
    "***\n",
    "__Question 7__ Implement the DQN training algorithm using a cascade of fully connected layers. You can use different learning rate, batch size or memory size parameters. In particular, the loss might oscillate while the player will start to win the games. You have to find a good criterium."
   ]
  },
  {
   "cell_type": "code",
   "execution_count": 11,
   "metadata": {},
   "outputs": [],
   "source": [
    "class DQN(Agent):\n",
    "    def __init__(self, grid_size,  epsilon = 0.1, memory_size=100, batch_size = 16,n_state=2):\n",
    "        super(DQN, self).__init__(epsilon = epsilon)\n",
    "\n",
    "        # Discount for Q learning\n",
    "        self.discount = 0.99\n",
    "        \n",
    "        self.grid_size = grid_size\n",
    "        \n",
    "        # number of state\n",
    "        self.n_state = n_state\n",
    "\n",
    "        # Memory\n",
    "        self.memory = Memory(memory_size)\n",
    "        \n",
    "        # Batch size when learning\n",
    "        self.batch_size = batch_size\n",
    "\n",
    "    def learned_act(self, s):\n",
    "        return np.argmax(self.model.predict(np.expand_dims(s, axis=0)), axis=1).astype(int)\n",
    "\n",
    "    def reinforce(self, s_, n_s_, a_, r_, game_over_):\n",
    "        # Two steps: first memorize the states, second learn from the pool\n",
    "    \n",
    "        self.memory.remember([s_, n_s_, a_, r_, game_over_])\n",
    "        \n",
    "        input_states = np.zeros((self.batch_size, 5,5,self.n_state))\n",
    "        target_q = np.zeros((self.batch_size, 4))\n",
    "        \n",
    "        for i in range(self.batch_size):\n",
    "            s_, n_s_, a_, r_, game_over_ = self.memory.random_access()\n",
    "            input_states[i] = s_\n",
    "            target_q[i] = self.model.predict(np.expand_dims(n_s_, axis=0))\n",
    "            \n",
    "            if game_over_:\n",
    "                input_states[i] = s_\n",
    "                target_q[i,a_] = r_\n",
    "                \n",
    "            else:\n",
    "                input_states[i] = s_\n",
    "                target_q[i,a_] = r_ + self.discount * np.amax(self.model.predict(np.expand_dims(n_s_, axis=0)), axis=1)\n",
    "                \n",
    "        # HINT: Clip the target to avoid exploiding gradients.. -- clipping is a bit tighter\n",
    "        target_q = np.clip(target_q, -3, 3)\n",
    "\n",
    "        l = self.model.train_on_batch(input_states, target_q)\n",
    "\n",
    "\n",
    "        return l\n",
    "\n",
    "    def save(self,name_weights='model.h5',name_model='model.json'):\n",
    "        self.model.save_weights(name_weights, overwrite=True)\n",
    "        with open(name_model, \"w\") as outfile:\n",
    "            json.dump(self.model.to_json(), outfile)\n",
    "            \n",
    "    def load(self,name_weights='model.h5',name_model='model.json'):\n",
    "        with open(name_model, \"r\") as jfile:\n",
    "            model = model_from_json(json.load(jfile))\n",
    "        model.load_weights(name_weights)\n",
    "        model.compile(\"sgd\", \"mse\")\n",
    "        self.model = model\n",
    "\n",
    "            \n",
    "class DQN_FC(DQN):\n",
    "    def __init__(self, *args, lr=0.1,**kwargs):\n",
    "        super(DQN_FC, self).__init__( *args,**kwargs)\n",
    "        \n",
    "        # NN Model\n",
    "        \n",
    "        model = Sequential()\n",
    "        model.add(Dense(64, activation='relu'))\n",
    "        model.add(Flatten())\n",
    "        model.add(Dense(64, activation='relu'))\n",
    "        model.add(Dense(4, activation='softmax'))\n",
    "        \n",
    "        model.compile(sgd(lr=lr, decay=1e-4, momentum=0.0), \"mse\")\n",
    "        self.model = model\n",
    "        "
   ]
  },
  {
   "cell_type": "code",
   "execution_count": 12,
   "metadata": {},
   "outputs": [
    {
     "name": "stdout",
     "output_type": "stream",
     "text": [
      "Epoch 000/030 | Loss 0.0039 | Win/lose count 3.0/5.0 (-2.0)\n",
      "Epoch 001/030 | Loss 0.0018 | Win/lose count 0.5/1.0 (-0.5)\n",
      "Epoch 002/030 | Loss 0.0003 | Win/lose count 3.0/2.0 (1.0)\n",
      "Epoch 003/030 | Loss 0.0146 | Win/lose count 1.5/1.0 (0.5)\n",
      "Epoch 004/030 | Loss 0.0023 | Win/lose count 2.5/4.0 (-1.5)\n",
      "Epoch 005/030 | Loss 0.0123 | Win/lose count 3.5/1.0 (2.5)\n",
      "Epoch 006/030 | Loss 0.0002 | Win/lose count 1.0/4.0 (-3.0)\n",
      "Epoch 007/030 | Loss 0.0124 | Win/lose count 2.0/3.0 (-1.0)\n",
      "Epoch 008/030 | Loss 0.0081 | Win/lose count 5.0/6.0 (-1.0)\n",
      "Epoch 009/030 | Loss 0.0026 | Win/lose count 4.5/2.0 (2.5)\n",
      "Epoch 010/030 | Loss 0.0002 | Win/lose count 1.5/1.0 (0.5)\n",
      "Epoch 011/030 | Loss 0.0080 | Win/lose count 2.5/2.0 (0.5)\n",
      "Epoch 012/030 | Loss 0.0001 | Win/lose count 3.5/5.0 (-1.5)\n",
      "Epoch 013/030 | Loss 0.0008 | Win/lose count 2.0/2.0 (0.0)\n",
      "Epoch 014/030 | Loss 0.0042 | Win/lose count 3.5/2.0 (1.5)\n",
      "Epoch 015/030 | Loss 0.0007 | Win/lose count 3.5/3.0 (0.5)\n",
      "Epoch 016/030 | Loss 0.0065 | Win/lose count 2.5/3.0 (-0.5)\n",
      "Epoch 017/030 | Loss 0.0009 | Win/lose count 1.5/3.0 (-1.5)\n",
      "Epoch 018/030 | Loss 0.0040 | Win/lose count 1.5/4.0 (-2.5)\n",
      "Epoch 019/030 | Loss 0.0044 | Win/lose count 2.5/3.0 (-0.5)\n",
      "Epoch 020/030 | Loss 0.0020 | Win/lose count 2.0/1.0 (1.0)\n",
      "Epoch 021/030 | Loss 0.0021 | Win/lose count 3.0/2.0 (1.0)\n",
      "Epoch 022/030 | Loss 0.0003 | Win/lose count 3.0/2.0 (1.0)\n",
      "Epoch 023/030 | Loss 0.0020 | Win/lose count 1.0/0 (1.0)\n",
      "Epoch 024/030 | Loss 0.0030 | Win/lose count 3.0/2.0 (1.0)\n",
      "Epoch 025/030 | Loss 0.0071 | Win/lose count 7.0/5.0 (2.0)\n",
      "Epoch 026/030 | Loss 0.0043 | Win/lose count 0.5/2.0 (-1.5)\n",
      "Epoch 027/030 | Loss 0.0090 | Win/lose count 0.5/3.0 (-2.5)\n",
      "Epoch 028/030 | Loss 0.0143 | Win/lose count 5.0/3.0 (2.0)\n",
      "Epoch 029/030 | Loss 0.0005 | Win/lose count 2.0/0 (2.0)\n"
     ]
    },
    {
     "data": {
      "text/html": [
       "<video alt=\"test\" controls>\n",
       "                <source src=\"data:video/mp4;base64,AAAAIGZ0eXBpc29tAAACAGlzb21pc28yYXZjMW1wNDEAAAAIZnJlZQAAFddtZGF0AAACrQYF//+p3EXpvebZSLeWLNgg2SPu73gyNjQgLSBjb3JlIDE1NyByMjkzNSA1NDVkZTJmIC0gSC4yNjQvTVBFRy00IEFWQyBjb2RlYyAtIENvcHlsZWZ0IDIwMDMtMjAxOCAtIGh0dHA6Ly93d3cudmlkZW9sYW4ub3JnL3gyNjQuaHRtbCAtIG9wdGlvbnM6IGNhYmFjPTEgcmVmPTMgZGVibG9jaz0xOjA6MCBhbmFseXNlPTB4MToweDExMSBtZT1oZXggc3VibWU9NyBwc3k9MSBwc3lfcmQ9MS4wMDowLjAwIG1peGVkX3JlZj0xIG1lX3JhbmdlPTE2IGNocm9tYV9tZT0xIHRyZWxsaXM9MSA4eDhkY3Q9MCBjcW09MCBkZWFkem9uZT0yMSwxMSBmYXN0X3Bza2lwPTEgY2hyb21hX3FwX29mZnNldD00IHRocmVhZHM9NiBsb29rYWhlYWRfdGhyZWFkcz0xIHNsaWNlZF90aHJlYWRzPTAgbnI9MCBkZWNpbWF0ZT0xIGludGVybGFjZWQ9MCBibHVyYXlfY29tcGF0PTAgY29uc3RyYWluZWRfaW50cmE9MCBiZnJhbWVzPTMgYl9weXJhbWlkPTIgYl9hZGFwdD0xIGJfYmlhcz0wIGRpcmVjdD0xIHdlaWdodGI9MSBvcGVuX2dvcD0wIHdlaWdodHA9MiBrZXlpbnQ9MjUwIGtleWludF9taW49MjUgc2NlbmVjdXQ9NDAgaW50cmFfcmVmcmVzaD0wIHJjX2xvb2thaGVhZD00MCByYz1jcmYgbWJ0cmVlPTEgY3JmPTIzLjAgcWNvbXA9MC42MCBxcG1pbj0wIHFwbWF4PTY5IHFwc3RlcD00IGlwX3JhdGlvPTEuNDAgYXE9MToxLjAwAIAAAAL5ZYiEADf//vaH+BTZWBP+Wb/9DX/cj9uPrP1xYyEE31qvIejAGS+1H+b/rFFs6Z6UB/fgCJQAc24ZwpJw4v/ApLdW+BTLYTnE+Uwo5XT/KBbJHQMxSlGl5KWiupTDcNm1hCC9aWXptPRgPi11EUNgNrYZCHRDxHtU5iWyEnhadU909hXaFcWd0pqOh+EJBvTuGr2GZhvIxCaBo3fhTaRso3nqI1VnR1JXWfT8+XWE9VD2DEGflpb0CPTz/azTvfW8I2b2mLwIJkSZWRl/fL13/odQX0+avDuq5zKRCSfrweeewQ5q6nc5nZK9rn6dXAbsyClgGBDYv+eXHfl9S5mFlWDhsQNs99RssKLcCcalxd6T97rHCQ8wD09WqUK7xlJR2CWb4I0MxI+S9nQq03nCzbjeZYPvuV6GKUN/Ls1nXTvs0ivYHUiTlgdqZyeKzJqvlMe95jqY4pW3KK4QnSLGZ/qELAKlr1CKnOowLtUFIADZF/LzLqop1ijs5EbFi+0s+2S/Yz9TWLWFXLxUpizhT/LxCGwkh4D3iRAASHBCf9hr8m6GTViZlUTSSe7xrB/9aHKrtZAABO6fiVD/RBHhSdWqWF3dpSrpJ4HEQ97YIsmbgHw8klHWYwHAHKD1AzYeRQKmQ3j2N1mVBElLQvbs9KjoOMLA2rMkx6T4c/koieJ8bHuDBjLmURxY+Su1o6B0iOo7pnFhC93ebPcZOLhVoNVv15M7UpHtlduQrEQv91OBvVvi+jKJa74SelM/Lzr7gr5T19TEVdeO9kZjYx6wyYn1KI6ssPZihM0coycGJWD6gZZLl7eveNIzpGTLoq5WDtebyTMrZOGDbIPT0TSB2ZWTy9skrLU8xQkhgO8NHglRyY7gFJZjbET39ICaJ4BI3+h2SPTh2bZ3ZbZziY84g9chrbCfF9hL6m56yFpMcPaOmjDZZx7gQBRwsoPMqI+fihSAY06XWuLCZGCfcXuz9PMCS+1WRi8+gCQBRDmYQYwnRWRw2hAAE/EAAAAWQZohbEO//qmWBH4gzPdPVQOH9WDPgAAAABdBmkU8IZMphDf//qeECK6ga8xJA7oJOQAAAA9BnmNqU8L/AcOrnfYF7lgAAAAOAZ6CdEK/Al5egMkrwQcAAAAQAZ6EakK/Al4Q3r30kFYakQAAABdBmodJqEFomUwU8O/+qZYFG1Pyp5hNwQAAAA8BnqZqQr8CddodCabQbcEAAAASQZqrSeEKUmUwId/+qZYAAJWAAAAAEUGeyUU0TC//AcPkP4kYAsuAAAAAEAGe6HRCvwJfGTyNizE0FbEAAAAQAZ7qakK/AnYeDXHfiyu3oAAAAB9Bmu1JqEFomUwU8O/+qZYBRwsJCKiaVpVA4f67MyygAAAAEAGfDGpCvwGTdU8lzPkkuIEAAAAeQZsRSeEKUmUwId/+qZYG2hwkcGGLdX6Og7f6aDAhAAAAEEGfL0U0TC//AgEa1FB8KmEAAAAQAZ9OdEK/ArBAHO2MTapIwAAAABABn1BqQr8Cg2Lda/H24K2AAAAAE0GbVUmoQWiZTAh3//6plgAAlYEAAAAMQZ9zRREsL/8AALKAAAAAEAGfknRCvwKDYt13APtwVsAAAAAQAZ+UakK/AoNi3Wvx9uCtgQAAABNBm5lJqEFsmUwId//+qZYAAJWAAAAADEGft0UVLC//AACygQAAABABn9Z0Qr8Cg2LddwD7cFbBAAAAEAGf2GpCvwKDYt1r8fbgrYAAAAATQZvdSahBbJlMCHf//qmWAACVgQAAAAxBn/tFFSwv/wAAsoAAAAAPAZ4adEK/Aq9x3SEtxaGLAAAAEAGeHGpCvwKDYt1r8fbgrYEAAAATQZoBSahBbJlMCHf//qmWAACVgAAAABRBnj9FFSwv/wHg484344+iykqvSAAAABABnl50Qr8Cj9WjJKnRkumBAAAADwGeQGpCvwKRZ0fhs2jyBgAAABNBmkVJqEFsmUwId//+qZYAAJWBAAAADEGeY0UVLC//AACygAAAAA8BnoJ0Qr8Cr3HdIS3FoYsAAAAQAZ6EakK/AoNi3Wvx9uCtgQAAABNBmolJqEFsmUwId//+qZYAAJWBAAAADEGep0UVLC//AACygQAAAA8BnsZ0Qr8Cr3HdIS3FoYsAAAAPAZ7IakK/Aq3miDHToKKKAAAAE0GazUmoQWyZTAh3//6plgAAlYEAAAAMQZ7rRRUsL/8AALKAAAAAEAGfCnRCvwKDYt13APtwVsAAAAAQAZ8MakK/AoNi3Wvx9uCtgQAAABNBmxFJqEFsmUwId//+qZYAAJWBAAAADEGfL0UVLC//AACygQAAABABn050Qr8Cg2LddwD7cFbAAAAAEAGfUGpCvwKDYt1r8fbgrYAAAAAcQZtVSahBbJlMCHf//qmWBh9HPtqBahZClvkS8QAAABBBn3NFFSwv/wHqnQf815qQAAAADwGfknRCvwKQ0XtVnfBWwAAAAA8Bn5RqQr8CkFZchpDvQ28AAAAZQZuZSahBbJlMCHf//qmWBeMbu/ePPklPmAAAABBBn7dFFSwv/wHqnQf815qRAAAADwGf1nRCvwJ20rGC/tBtwQAAAA8Bn9hqQr8CkWdH4bNo8gYAAAAZQZvdSahBbJlMCHf//qmWBh9HPtqDaJjLuQAAABBBn/tFFSwv/wHqnQf815qQAAAADwGeGnRCvwKQ0XtVnfBWwQAAABABnhxqQr8CkE+c6zPwTr2BAAAAGUGaAUmoQWyZTAh3//6plgXjG7v3jz5JT5gAAAAQQZ4/RRUsL/8B6p0H/NeakAAAAA8Bnl50Qr8CdtKxgv7QbcEAAAAPAZ5AakK/ApFnR+GzaPIGAAAAE0GaRUmoQWyZTAh3//6plgAAlYEAAAAMQZ5jRRUsL/8AALKAAAAAEAGegnRCvwKDYt13APtwVsEAAAAQAZ6EakK/AoNi3Wvx9uCtgQAAABNBmolJqEFsmUwId//+qZYAAJWBAAAADEGep0UVLC//AACygQAAABABnsZ0Qr8Cg2LddwD7cFbAAAAAEAGeyGpCvwKDYt1r8fbgrYAAAAATQZrNSahBbJlMCHf//qmWAACVgQAAAAxBnutFFSwv/wAAsoAAAAAQAZ8KdEK/AoNi3XcA+3BWwAAAABABnwxqQr8Cg2Lda/H24K2BAAAAE0GbEUmoQWyZTAh3//6plgAAlYEAAAAMQZ8vRRUsL/8AALKBAAAAEAGfTnRCvwKDYt13APtwVsAAAAAQAZ9QakK/AoNi3Wvx9uCtgAAAABNBm1VJqEFsmUwId//+qZYAAJWBAAAADEGfc0UVLC//AACygAAAABABn5J0Qr8Cg2LddwD7cFbAAAAAEAGflGpCvwKDYt1r8fbgrYEAAAATQZuZSahBbJlMCHf//qmWAACVgAAAAAxBn7dFFSwv/wAAsoEAAAAQAZ/WdEK/AoNi3XcA+3BWwQAAABABn9hqQr8Cg2Lda/H24K2AAAAAE0Gb3UmoQWyZTAh3//6plgAAlYEAAAAMQZ/7RRUsL/8AALKAAAAAEAGeGnRCvwKDYt13APtwVsEAAAAQAZ4cakK/AoNi3Wvx9uCtgQAAABNBmgFJqEFsmUwId//+qZYAAJWAAAAADEGeP0UVLC//AACygAAAABABnl50Qr8Cg2LddwD7cFbBAAAAEAGeQGpCvwKDYt1r8fbgrYAAAAATQZpFSahBbJlMCHf//qmWAACVgQAAAAxBnmNFFSwv/wAAsoAAAAAQAZ6CdEK/AoNi3XcA+3BWwQAAABABnoRqQr8Cg2Lda/H24K2BAAAAE0GaiUmoQWyZTAh3//6plgAAlYEAAAAMQZ6nRRUsL/8AALKBAAAAEAGexnRCvwKDYt13APtwVsAAAAAQAZ7IakK/AoNi3Wvx9uCtgAAAABNBms1JqEFsmUwId//+qZYAAJWBAAAAFEGe60UVLC//AeDjzjfjj6LKSq9IAAAAEAGfCnRCvwKP1aMkqdGS6YAAAAAPAZ8MakK/ApFnR+GzaPIHAAAAE0GbEUmoQWyZTAh3//6plgAAlYEAAAAMQZ8vRRUsL/8AALKBAAAAEAGfTnRCvwKDYt13APtwVsAAAAAQAZ9QakK/AoNi3Wvx9uCtgAAAABNBm1VJqEFsmUwId//+qZYAAJWBAAAADEGfc0UVLC//AACygAAAABABn5J0Qr8Cg2LddwD7cFbAAAAADwGflGpCvwKt5ogx06CiiwAAABNBm5lJqEFsmUwId//+qZYAAJWAAAAADEGft0UVLC//AACygQAAABABn9Z0Qr8Cg2LddwD7cFbBAAAAEAGf2GpCvwKDYt1r8fbgrYAAAAATQZvdSahBbJlMCHf//qmWAACVgQAAAAxBn/tFFSwv/wAAsoAAAAAQAZ4adEK/AoNi3XcA+3BWwQAAAA8BnhxqQr8CreaIMdOgoosAAAATQZoBSahBbJlMCHf//qmWAACVgAAAAAxBnj9FFSwv/wAAsoAAAAAQAZ5edEK/AoNi3XcA+3BWwQAAAA8BnkBqQr8CreaIMdOgoooAAAATQZpFSahBbJlMCHf//qmWAACVgQAAAAxBnmNFFSwv/wAAsoAAAAAQAZ6CdEK/AoNi3XcA+3BWwQAAABABnoRqQr8Cg2Lda/H24K2BAAAAE0GaiUmoQWyZTAh3//6plgAAlYEAAAAMQZ6nRRUsL/8AALKBAAAADwGexnRCvwKvcd0hLcWhiwAAABABnshqQr8Cg2Lda/H24K2AAAAAE0GazUmoQWyZTAh3//6plgAAlYEAAAAMQZ7rRRUsL/8AALKAAAAAEAGfCnRCvwKDYt13APtwVsAAAAAPAZ8MakK/Aq3miDHToKKLAAAAE0GbEUmoQWyZTAh3//6plgAAlYEAAAAMQZ8vRRUsL/8AALKBAAAAEAGfTnRCvwKDYt13APtwVsAAAAAPAZ9QakK/Aq3miDHToKKKAAAAE0GbVUmoQWyZTAh3//6plgAAlYEAAAAMQZ9zRRUsL/8AALKAAAAAEAGfknRCvwKDYt13APtwVsAAAAAPAZ+UakK/Aq3miDHToKKLAAAAE0GbmUmoQWyZTAh3//6plgAAlYAAAAAMQZ+3RRUsL/8AALKBAAAAEAGf1nRCvwKDYt13APtwVsEAAAAPAZ/YakK/Aq3miDHToKKKAAAAHkGb3UmoQWyZTAh3//6plgYfS6Bw/x/7UC0Uw30QcQAAABBBn/tFFSwv/wHqnRH2Be2oAAAADwGeGnRCvwKQ0XtVnfBWwQAAABABnhxqQr8CrzRvNLrWTWpBAAAAG0GaAUmoQWyZTAh3//6plgXjG8H6VQOH+i4UkAAAABBBnj9FFSwv/wHp+9fkNFFAAAAAEAGeXnRCvwKwQBztjE2qSMEAAAAPAZ5AakK/ApI1cxX91K2AAAAAE0GaRUmoQWyZTAh3//6plgAAlYEAAAAMQZ5jRRUsL/8AALKAAAAAEAGegnRCvwKDYt13APtwVsEAAAAPAZ6EakK/Aq3miDHToKKLAAAAE0GaiUmoQWyZTAh3//6plgAAlYEAAAAMQZ6nRRUsL/8AALKBAAAAEAGexnRCvwKDYt13APtwVsAAAAAQAZ7IakK/AoNi3Wvx9uCtgAAAABNBms1JqEFsmUwId//+qZYAAJWBAAAADEGe60UVLC//AACygAAAABABnwp0Qr8Cg2LddwD7cFbAAAAAEAGfDGpCvwKDYt1r8fbgrYEAAAATQZsRSahBbJlMCHf//qmWAACVgQAAAAxBny9FFSwv/wAAsoEAAAAQAZ9OdEK/AoNi3XcA+3BWwAAAABABn1BqQr8Cg2Lda/H24K2AAAAAE0GbVUmoQWyZTAh3//6plgAAlYEAAAAMQZ9zRRUsL/8AALKAAAAAEAGfknRCvwKDYt13APtwVsAAAAAQAZ+UakK/AoNi3Wvx9uCtgQAAABNBm5lJqEFsmUwId//+qZYAAJWAAAAADEGft0UVLC//AACygQAAAA8Bn9Z0Qr8Cr3HdIS3FoYsAAAAQAZ/YakK/AoNi3Wvx9uCtgAAAABNBm91JqEFsmUwId//+qZYAAJWBAAAADEGf+0UVLC//AACygAAAAA8Bnhp0Qr8Cr3HdIS3FoYsAAAAQAZ4cakK/AoNi3Wvx9uCtgQAAABJBmgFJqEFsmUwIb//+p4QAAScAAAAMQZ4/RRUsL/8AALKAAAAAEAGeXnRCvwKDYt13APtwVsEAAAAQAZ5AakK/AoNi3Wvx9uCtgAAAABJBmkVJqEFsmUwIZ//+nhAABH0AAAAMQZ5jRRUsL/8AALKAAAAAEAGegnRCvwKDYt13APtwVsEAAAAQAZ6EakK/AoNi3Wvx9uCtgQAAABpBmolLqEIQWyRGCCgH8gH9h4AhX/44QAARcQAAACNBnqdFFSwv/wIB3OpL2zMKuYDoGrWoXAlAGWiTwt8ykzScMQAAABABnsZ0Qr8Cg2LddwD7cFbAAAAAIwGeyGpCvwKva4JAu3LkNDPBjctNPVGn4ZGrP2o3oCuIUNxMAAAMgG1vb3YAAABsbXZoZAAAAAAAAAAAAAAAAAAAA+gAAB+QAAEAAAEAAAAAAAAAAAAAAAABAAAAAAAAAAAAAAAAAAAAAQAAAAAAAAAAAAAAAAAAQAAAAAAAAAAAAAAAAAAAAAAAAAAAAAAAAAAAAAAAAAIAAAuqdHJhawAAAFx0a2hkAAAAAwAAAAAAAAAAAAAAAQAAAAAAAB+QAAAAAAAAAAAAAAAAAAAAAAABAAAAAAAAAAAAAAAAAAAAAQAAAAAAAAAAAAAAAAAAQAAAAAEQAAABEAAAAAAAJGVkdHMAAAAcZWxzdAAAAAAAAAABAAAfkAAABAAAAQAAAAALIm1kaWEAAAAgbWRoZAAAAAAAAAAAAAAAAAAAMgAAAZQAVcQAAAAAAC1oZGxyAAAAAAAAAAB2aWRlAAAAAAAAAAAAAAAAVmlkZW9IYW5kbGVyAAAACs1taW5mAAAAFHZtaGQAAAABAAAAAAAAAAAAAAAkZGluZgAAABxkcmVmAAAAAAAAAAEAAAAMdXJsIAAAAAEAAAqNc3RibAAAAJVzdHNkAAAAAAAAAAEAAACFYXZjMQAAAAAAAAABAAAAAAAAAAAAAAAAAAAAAAEQARAASAAAAEgAAAAAAAAAAQAAAAAAAAAAAAAAAAAAAAAAAAAAAAAAAAAAAAAAAAAAABj//wAAAC9hdmNDAfQADf/hABdn9AANkZsoIhHQgAAAAwCAAAAZB4oUywEABWjr48RIAAAAGHN0dHMAAAAAAAAAAQAAAMoAAAIAAAAAFHN0c3MAAAAAAAAAAQAAAAEAAAZYY3R0cwAAAAAAAADJAAAAAgAABAAAAAABAAAKAAAAAAEAAAQAAAAAAQAAAAAAAAABAAACAAAAAAEAAAYAAAAAAQAAAgAAAAABAAAKAAAAAAEAAAQAAAAAAQAAAAAAAAABAAACAAAAAAEAAAYAAAAAAQAAAgAAAAABAAAKAAAAAAEAAAQAAAAAAQAAAAAAAAABAAACAAAAAAEAAAoAAAAAAQAABAAAAAABAAAAAAAAAAEAAAIAAAAAAQAACgAAAAABAAAEAAAAAAEAAAAAAAAAAQAAAgAAAAABAAAKAAAAAAEAAAQAAAAAAQAAAAAAAAABAAACAAAAAAEAAAoAAAAAAQAABAAAAAABAAAAAAAAAAEAAAIAAAAAAQAACgAAAAABAAAEAAAAAAEAAAAAAAAAAQAAAgAAAAABAAAKAAAAAAEAAAQAAAAAAQAAAAAAAAABAAACAAAAAAEAAAoAAAAAAQAABAAAAAABAAAAAAAAAAEAAAIAAAAAAQAACgAAAAABAAAEAAAAAAEAAAAAAAAAAQAAAgAAAAABAAAKAAAAAAEAAAQAAAAAAQAAAAAAAAABAAACAAAAAAEAAAoAAAAAAQAABAAAAAABAAAAAAAAAAEAAAIAAAAAAQAACgAAAAABAAAEAAAAAAEAAAAAAAAAAQAAAgAAAAABAAAKAAAAAAEAAAQAAAAAAQAAAAAAAAABAAACAAAAAAEAAAoAAAAAAQAABAAAAAABAAAAAAAAAAEAAAIAAAAAAQAACgAAAAABAAAEAAAAAAEAAAAAAAAAAQAAAgAAAAABAAAKAAAAAAEAAAQAAAAAAQAAAAAAAAABAAACAAAAAAEAAAoAAAAAAQAABAAAAAABAAAAAAAAAAEAAAIAAAAAAQAACgAAAAABAAAEAAAAAAEAAAAAAAAAAQAAAgAAAAABAAAKAAAAAAEAAAQAAAAAAQAAAAAAAAABAAACAAAAAAEAAAoAAAAAAQAABAAAAAABAAAAAAAAAAEAAAIAAAAAAQAACgAAAAABAAAEAAAAAAEAAAAAAAAAAQAAAgAAAAABAAAKAAAAAAEAAAQAAAAAAQAAAAAAAAABAAACAAAAAAEAAAoAAAAAAQAABAAAAAABAAAAAAAAAAEAAAIAAAAAAQAACgAAAAABAAAEAAAAAAEAAAAAAAAAAQAAAgAAAAABAAAKAAAAAAEAAAQAAAAAAQAAAAAAAAABAAACAAAAAAEAAAoAAAAAAQAABAAAAAABAAAAAAAAAAEAAAIAAAAAAQAACgAAAAABAAAEAAAAAAEAAAAAAAAAAQAAAgAAAAABAAAKAAAAAAEAAAQAAAAAAQAAAAAAAAABAAACAAAAAAEAAAoAAAAAAQAABAAAAAABAAAAAAAAAAEAAAIAAAAAAQAACgAAAAABAAAEAAAAAAEAAAAAAAAAAQAAAgAAAAABAAAKAAAAAAEAAAQAAAAAAQAAAAAAAAABAAACAAAAAAEAAAoAAAAAAQAABAAAAAABAAAAAAAAAAEAAAIAAAAAAQAACgAAAAABAAAEAAAAAAEAAAAAAAAAAQAAAgAAAAABAAAKAAAAAAEAAAQAAAAAAQAAAAAAAAABAAACAAAAAAEAAAoAAAAAAQAABAAAAAABAAAAAAAAAAEAAAIAAAAAAQAACgAAAAABAAAEAAAAAAEAAAAAAAAAAQAAAgAAAAABAAAKAAAAAAEAAAQAAAAAAQAAAAAAAAABAAACAAAAAAEAAAoAAAAAAQAABAAAAAABAAAAAAAAAAEAAAIAAAAAAQAACgAAAAABAAAEAAAAAAEAAAAAAAAAAQAAAgAAAAABAAAKAAAAAAEAAAQAAAAAAQAAAAAAAAABAAACAAAAAAEAAAoAAAAAAQAABAAAAAABAAAAAAAAAAEAAAIAAAAAAQAACgAAAAABAAAEAAAAAAEAAAAAAAAAAQAAAgAAAAABAAAKAAAAAAEAAAQAAAAAAQAAAAAAAAABAAACAAAAAAEAAAoAAAAAAQAABAAAAAABAAAAAAAAAAEAAAIAAAAAAQAACgAAAAABAAAEAAAAAAEAAAAAAAAAAQAAAgAAAAABAAAKAAAAAAEAAAQAAAAAAQAAAAAAAAABAAACAAAAAAEAAAoAAAAAAQAABAAAAAABAAAAAAAAAAEAAAIAAAAAHHN0c2MAAAAAAAAAAQAAAAEAAADKAAAAAQAAAzxzdHN6AAAAAAAAAAAAAADKAAAFrgAAABoAAAAbAAAAEwAAABIAAAAUAAAAGwAAABMAAAAWAAAAFQAAABQAAAAUAAAAIwAAABQAAAAiAAAAFAAAABQAAAAUAAAAFwAAABAAAAAUAAAAFAAAABcAAAAQAAAAFAAAABQAAAAXAAAAEAAAABMAAAAUAAAAFwAAABgAAAAUAAAAEwAAABcAAAAQAAAAEwAAABQAAAAXAAAAEAAAABMAAAATAAAAFwAAABAAAAAUAAAAFAAAABcAAAAQAAAAFAAAABQAAAAgAAAAFAAAABMAAAATAAAAHQAAABQAAAATAAAAEwAAAB0AAAAUAAAAEwAAABQAAAAdAAAAFAAAABMAAAATAAAAFwAAABAAAAAUAAAAFAAAABcAAAAQAAAAFAAAABQAAAAXAAAAEAAAABQAAAAUAAAAFwAAABAAAAAUAAAAFAAAABcAAAAQAAAAFAAAABQAAAAXAAAAEAAAABQAAAAUAAAAFwAAABAAAAAUAAAAFAAAABcAAAAQAAAAFAAAABQAAAAXAAAAEAAAABQAAAAUAAAAFwAAABAAAAAUAAAAFAAAABcAAAAYAAAAFAAAABMAAAAXAAAAEAAAABQAAAAUAAAAFwAAABAAAAAUAAAAEwAAABcAAAAQAAAAFAAAABQAAAAXAAAAEAAAABQAAAATAAAAFwAAABAAAAAUAAAAEwAAABcAAAAQAAAAFAAAABQAAAAXAAAAEAAAABMAAAAUAAAAFwAAABAAAAAUAAAAEwAAABcAAAAQAAAAFAAAABMAAAAXAAAAEAAAABQAAAATAAAAFwAAABAAAAAUAAAAEwAAACIAAAAUAAAAEwAAABQAAAAfAAAAFAAAABQAAAATAAAAFwAAABAAAAAUAAAAEwAAABcAAAAQAAAAFAAAABQAAAAXAAAAEAAAABQAAAAUAAAAFwAAABAAAAAUAAAAFAAAABcAAAAQAAAAFAAAABQAAAAXAAAAEAAAABMAAAAUAAAAFwAAABAAAAATAAAAFAAAABYAAAAQAAAAFAAAABQAAAAWAAAAEAAAABQAAAAUAAAAHgAAACcAAAAUAAAAJwAAABRzdGNvAAAAAAAAAAEAAAAwAAAAYnVkdGEAAABabWV0YQAAAAAAAAAhaGRscgAAAAAAAAAAbWRpcmFwcGwAAAAAAAAAAAAAAAAtaWxzdAAAACWpdG9vAAAAHWRhdGEAAAABAAAAAExhdmY1OC4yNi4xMDE=\" type=\"video/mp4\" />\n",
       "             </video>"
      ],
      "text/plain": [
       "<IPython.core.display.HTML object>"
      ]
     },
     "execution_count": 12,
     "metadata": {},
     "output_type": "execute_result"
    }
   ],
   "source": [
    "env = Environment(grid_size=size, max_time=T, temperature=0.3)\n",
    "agent = DQN_FC(size, lr=.1, epsilon = 0.1, memory_size=2000, batch_size = 32)\n",
    "train(agent, env, epochs_train, prefix='fc_train')\n",
    "HTML(display_videos('fc_train10.mp4'))"
   ]
  },
  {
   "cell_type": "markdown",
   "metadata": {},
   "source": [
    "***\n",
    "***\n",
    "__Question 8__ Implement the DQN training algorithm using a CNN (for example, 2 convolutional layers and one final fully connected layer)."
   ]
  },
  {
   "cell_type": "code",
   "execution_count": 13,
   "metadata": {},
   "outputs": [],
   "source": [
    "class DQN_CNN(DQN):\n",
    "    def __init__(self, *args,lr=0.1,**kwargs):\n",
    "        super(DQN_CNN, self).__init__(*args,**kwargs)\n",
    "        \n",
    "        model = Sequential()\n",
    "        model.add(Conv2D(32,(2,2),activation='relu',input_shape=(5,5,self.n_state)))\n",
    "        model.add(Conv2D(32,(2,2),activation='relu',input_shape=(5,5,self.n_state)))\n",
    "        model.add(Flatten())\n",
    "        model.add(Dense(4))\n",
    "        \n",
    "        \n",
    "        model.compile(sgd(lr=lr, decay=1e-4, momentum=0.0), \"mse\")\n",
    "        self.model = model"
   ]
  },
  {
   "cell_type": "code",
   "execution_count": 14,
   "metadata": {},
   "outputs": [
    {
     "name": "stdout",
     "output_type": "stream",
     "text": [
      "Epoch 000/030 | Loss 0.0069 | Win/lose count 1.0/5.0 (-4.0)\n",
      "Epoch 001/030 | Loss 0.0044 | Win/lose count 2.5/4.0 (-1.5)\n",
      "Epoch 002/030 | Loss 0.0139 | Win/lose count 2.0/5.0 (-3.0)\n",
      "Epoch 003/030 | Loss 0.0016 | Win/lose count 2.0/1.0 (1.0)\n",
      "Epoch 004/030 | Loss 0.0064 | Win/lose count 7.0/2.0 (5.0)\n",
      "Epoch 005/030 | Loss 0.0021 | Win/lose count 3.5/0 (3.5)\n",
      "Epoch 006/030 | Loss 0.0106 | Win/lose count 6.0/5.0 (1.0)\n",
      "Epoch 007/030 | Loss 0.0053 | Win/lose count 4.0/2.0 (2.0)\n",
      "Epoch 008/030 | Loss 0.0023 | Win/lose count 6.5/3.0 (3.5)\n",
      "Epoch 009/030 | Loss 0.0101 | Win/lose count 4.0/3.0 (1.0)\n",
      "Epoch 010/030 | Loss 0.0031 | Win/lose count 4.0/3.0 (1.0)\n",
      "Epoch 011/030 | Loss 0.0113 | Win/lose count 5.5/5.0 (0.5)\n",
      "Epoch 012/030 | Loss 0.0027 | Win/lose count 8.5/4.0 (4.5)\n",
      "Epoch 013/030 | Loss 0.0090 | Win/lose count 5.0/3.0 (2.0)\n",
      "Epoch 014/030 | Loss 0.0027 | Win/lose count 4.0/3.0 (1.0)\n",
      "Epoch 015/030 | Loss 0.0846 | Win/lose count 9.5/1.0 (8.5)\n",
      "Epoch 016/030 | Loss 0.0028 | Win/lose count 8.5/8.0 (0.5)\n",
      "Epoch 017/030 | Loss 0.0031 | Win/lose count 5.0/4.0 (1.0)\n",
      "Epoch 018/030 | Loss 0.0095 | Win/lose count 10.0/6.0 (4.0)\n",
      "Epoch 019/030 | Loss 0.0168 | Win/lose count 12.0/3.0 (9.0)\n",
      "Epoch 020/030 | Loss 0.0098 | Win/lose count 14.5/6.0 (8.5)\n",
      "Epoch 021/030 | Loss 0.0035 | Win/lose count 17.5/8.0 (9.5)\n",
      "Epoch 022/030 | Loss 0.0655 | Win/lose count 6.5/3.0 (3.5)\n",
      "Epoch 023/030 | Loss 0.0029 | Win/lose count 4.5/3.0 (1.5)\n",
      "Epoch 024/030 | Loss 0.0038 | Win/lose count 10.0/4.0 (6.0)\n",
      "Epoch 025/030 | Loss 0.0099 | Win/lose count 8.5/4.0 (4.5)\n",
      "Epoch 026/030 | Loss 0.0020 | Win/lose count 8.0/4.0 (4.0)\n",
      "Epoch 027/030 | Loss 0.0034 | Win/lose count 12.5/4.0 (8.5)\n",
      "Epoch 028/030 | Loss 0.0667 | Win/lose count 11.0/5.0 (6.0)\n",
      "Epoch 029/030 | Loss 0.0028 | Win/lose count 16.5/7.0 (9.5)\n"
     ]
    },
    {
     "data": {
      "text/html": [
       "<video alt=\"test\" controls>\n",
       "                <source src=\"data:video/mp4;base64,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\" type=\"video/mp4\" />\n",
       "             </video>"
      ],
      "text/plain": [
       "<IPython.core.display.HTML object>"
      ]
     },
     "execution_count": 14,
     "metadata": {},
     "output_type": "execute_result"
    }
   ],
   "source": [
    "env = Environment(grid_size=size, max_time=T, temperature=0.3)\n",
    "agent = DQN_CNN(size, lr=.1, epsilon = 0.1, memory_size=2000, batch_size = 32)\n",
    "train(agent,env,epochs_train,prefix='cnn_train')\n",
    "HTML(display_videos('cnn_train10.mp4'))"
   ]
  },
  {
   "cell_type": "markdown",
   "metadata": {},
   "source": [
    "***\n",
    "***\n",
    "__Question 9__ Test both algorithms and compare their performances. Which issue(s) do you observe? Observe also different behaviors by changing the temperature."
   ]
  },
  {
   "cell_type": "code",
   "execution_count": 15,
   "metadata": {},
   "outputs": [
    {
     "name": "stdout",
     "output_type": "stream",
     "text": [
      "Test of the CNN\n",
      "Win/lose count 1.0/0. Average score (1.0)\n",
      "Win/lose count 1.0/0. Average score (1.0)\n",
      "Win/lose count 0/2.0. Average score (0.0)\n",
      "Win/lose count 0.5/0. Average score (0.125)\n",
      "Win/lose count 0.5/2.0. Average score (-0.2)\n",
      "Win/lose count 1.5/1.0. Average score (-0.08333333333333333)\n",
      "Win/lose count 0.5/0. Average score (0.0)\n",
      "Win/lose count 2.0/3.0. Average score (-0.125)\n",
      "Win/lose count 1.0/0. Average score (0.0)\n",
      "Win/lose count 0.5/2.0. Average score (-0.15)\n",
      "Win/lose count 0/4.0. Average score (-0.5)\n",
      "Win/lose count 1.5/2.0. Average score (-0.5)\n",
      "Win/lose count 0/2.0. Average score (-0.6153846153846154)\n",
      "Win/lose count 2.0/0. Average score (-0.42857142857142855)\n",
      "Win/lose count 1.0/1.0. Average score (-0.4)\n",
      "Win/lose count 1.5/1.0. Average score (-0.34375)\n",
      "Win/lose count 2.5/1.0. Average score (-0.23529411764705882)\n",
      "Win/lose count 1.5/1.0. Average score (-0.19444444444444445)\n",
      "Win/lose count 2.0/2.0. Average score (-0.18421052631578946)\n",
      "Win/lose count 0.5/0. Average score (-0.15)\n",
      "Win/lose count 0/0. Average score (-0.14285714285714285)\n",
      "Win/lose count 2.5/3.0. Average score (-0.1590909090909091)\n",
      "Win/lose count 1.0/0. Average score (-0.10869565217391304)\n",
      "Win/lose count 1.0/2.0. Average score (-0.14583333333333334)\n",
      "Win/lose count 1.0/1.0. Average score (-0.14)\n",
      "Win/lose count 0.5/1.0. Average score (-0.15384615384615385)\n",
      "Win/lose count 1.0/0. Average score (-0.1111111111111111)\n",
      "Win/lose count 1.0/1.0. Average score (-0.10714285714285714)\n",
      "Win/lose count 1.5/2.0. Average score (-0.1206896551724138)\n",
      "Win/lose count 0/0. Average score (-0.11666666666666667)\n",
      "Final score: -0.11666666666666667\n",
      "Test of the FC\n",
      "Win/lose count 1.0/1.0. Average score (0.0)\n",
      "Win/lose count 0/0. Average score (0.0)\n",
      "Win/lose count 1.0/1.0. Average score (0.0)\n",
      "Win/lose count 2.0/0. Average score (0.5)\n",
      "Win/lose count 0/0. Average score (0.4)\n",
      "Win/lose count 1.0/0. Average score (0.5)\n",
      "Win/lose count 1.5/2.0. Average score (0.35714285714285715)\n",
      "Win/lose count 0/1.0. Average score (0.1875)\n",
      "Win/lose count 0.5/1.0. Average score (0.1111111111111111)\n",
      "Win/lose count 0/0. Average score (0.1)\n",
      "Win/lose count 2.0/1.0. Average score (0.18181818181818182)\n",
      "Win/lose count 1.5/0. Average score (0.2916666666666667)\n",
      "Win/lose count 0/0. Average score (0.2692307692307692)\n",
      "Win/lose count 0/1.0. Average score (0.17857142857142858)\n",
      "Win/lose count 0.5/1.0. Average score (0.13333333333333333)\n",
      "Win/lose count 1.5/0. Average score (0.21875)\n",
      "Win/lose count 1.5/0. Average score (0.29411764705882354)\n",
      "Win/lose count 2.0/4.0. Average score (0.16666666666666666)\n",
      "Win/lose count 0/0. Average score (0.15789473684210525)\n",
      "Win/lose count 0.5/0. Average score (0.175)\n",
      "Win/lose count 0/2.0. Average score (0.07142857142857142)\n",
      "Win/lose count 2.5/2.0. Average score (0.09090909090909091)\n",
      "Win/lose count 1.0/1.0. Average score (0.08695652173913043)\n",
      "Win/lose count 0/2.0. Average score (0.0)\n",
      "Win/lose count 0.5/0. Average score (0.02)\n",
      "Win/lose count 2.0/1.0. Average score (0.057692307692307696)\n",
      "Win/lose count 0/0. Average score (0.05555555555555555)\n",
      "Win/lose count 0.5/0. Average score (0.07142857142857142)\n",
      "Win/lose count 1.0/1.0. Average score (0.06896551724137931)\n",
      "Win/lose count 0.5/3.0. Average score (-0.016666666666666666)\n",
      "Final score: -0.016666666666666666\n"
     ]
    }
   ],
   "source": [
    "env = Environment(grid_size=size, max_time=T,temperature=0.3)\n",
    "agent_cnn = DQN_CNN(size, lr=.1, epsilon = 0.1, memory_size=2000, batch_size = 32)\n",
    "agent_cnn.load(name_weights='cnn_trainmodel.h5',name_model='cnn_trainmodel.json')\n",
    "\n",
    "agent_fc = DQN_FC(size, lr=.1, epsilon = 0.1, memory_size=2000, batch_size = 32)\n",
    "agent_cnn.load(name_weights='fc_trainmodel.h5',name_model='fc_trainmodel.json')\n",
    "print('Test of the CNN')\n",
    "test(agent_cnn,env,epochs_test,prefix='cnn_test')\n",
    "print('Test of the FC')\n",
    "test(agent_fc,env,epochs_test,prefix='fc_test')"
   ]
  },
  {
   "cell_type": "code",
   "execution_count": 16,
   "metadata": {},
   "outputs": [
    {
     "data": {
      "text/html": [
       "<video alt=\"test\" controls>\n",
       "                <source src=\"data:video/mp4;base64,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\" type=\"video/mp4\" />\n",
       "             </video>"
      ],
      "text/plain": [
       "<IPython.core.display.HTML object>"
      ]
     },
     "execution_count": 16,
     "metadata": {},
     "output_type": "execute_result"
    }
   ],
   "source": [
    "HTML(display_videos('cnn_test10.mp4'))"
   ]
  },
  {
   "cell_type": "code",
   "execution_count": 17,
   "metadata": {},
   "outputs": [
    {
     "data": {
      "text/html": [
       "<video alt=\"test\" controls>\n",
       "                <source src=\"data:video/mp4;base64,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\" type=\"video/mp4\" />\n",
       "             </video>"
      ],
      "text/plain": [
       "<IPython.core.display.HTML object>"
      ]
     },
     "execution_count": 17,
     "metadata": {},
     "output_type": "execute_result"
    }
   ],
   "source": [
    "HTML(display_videos('fc_test10.mp4'))"
   ]
  },
  {
   "cell_type": "markdown",
   "metadata": {},
   "source": [
    ">We observe that the CNN performs better than the FC. \n",
    ">We also observe that they is a lack of exploration actions as the agent tend to stay in a specific zone.\n",
    ">Finally, by changing the temperature the final scores improve. This is due to the fact that the ratio between cheese and poison changes."
   ]
  },
  {
   "cell_type": "markdown",
   "metadata": {},
   "source": [
    "***\n",
    "\n",
    "The algorithm tends to not explore the map which can be an issue. We propose two ideas in order to encourage exploration:\n",
    "1. Incorporating a decreasing $\\epsilon$-greedy exploration. You can use the method ```set_epsilon```\n",
    "2. Append via the environment a new state that describes if a cell has been visited or not\n",
    "\n",
    "***\n",
    "__Question 10__ Design a new ```train_explore``` function and environment class ```EnvironmentExploring``` to tackle the issue of exploration.\n",
    "\n"
   ]
  },
  {
   "cell_type": "code",
   "execution_count": 26,
   "metadata": {},
   "outputs": [
    {
     "ename": "NameError",
     "evalue": "name 'action' is not defined",
     "output_type": "error",
     "traceback": [
      "\u001b[1;31m---------------------------------------------------------------------------\u001b[0m",
      "\u001b[1;31mNameError\u001b[0m                                 Traceback (most recent call last)",
      "\u001b[1;32m<ipython-input-26-7e87314b82d9>\u001b[0m in \u001b[0;36m<module>\u001b[1;34m()\u001b[0m\n\u001b[0;32m      8\u001b[0m \u001b[1;31m## use those samples of code:\u001b[0m\u001b[1;33m\u001b[0m\u001b[1;33m\u001b[0m\u001b[0m\n\u001b[0;32m      9\u001b[0m \u001b[1;31m#In train explore:\u001b[0m\u001b[1;33m\u001b[0m\u001b[1;33m\u001b[0m\u001b[0m\n\u001b[1;32m---> 10\u001b[1;33m \u001b[0mstate\u001b[0m\u001b[1;33m,\u001b[0m \u001b[0mreward\u001b[0m\u001b[1;33m,\u001b[0m \u001b[0mgame_over\u001b[0m \u001b[1;33m=\u001b[0m \u001b[0menv\u001b[0m\u001b[1;33m.\u001b[0m\u001b[0mact\u001b[0m\u001b[1;33m(\u001b[0m\u001b[0maction\u001b[0m\u001b[1;33m,\u001b[0m \u001b[0mtrain\u001b[0m\u001b[1;33m=\u001b[0m\u001b[1;32mTrue\u001b[0m\u001b[1;33m)\u001b[0m\u001b[1;33m\u001b[0m\u001b[0m\n\u001b[0m\u001b[0;32m     11\u001b[0m \u001b[1;33m\u001b[0m\u001b[0m\n\u001b[0;32m     12\u001b[0m \u001b[1;31m## In Environment exploring:\u001b[0m\u001b[1;33m\u001b[0m\u001b[1;33m\u001b[0m\u001b[0m\n",
      "\u001b[1;31mNameError\u001b[0m: name 'action' is not defined"
     ]
    }
   ],
   "source": [
    "def train_explore(agent,env,epoch,prefix=''):\n",
    "    pass\n",
    "        \n",
    "class EnvironmentExploring(object):\n",
    "    def __init__(self, grid_size=10, max_time=500, temperature=0.1):\n",
    "        pass\n",
    "    \n",
    "## use those samples of code:\n",
    "#In train explore:\n",
    "state, reward, game_over = env.act(action, train=True)\n",
    "\n",
    "## In Environment exploring:\n",
    "# You will have to change n_state to 3 because you will use one more layer!\n",
    "reward = 0\n",
    "if train:\n",
    "    reward = -self.malus_position[self.x, self.y]\n",
    "self.malus_position[self.x, self.y] = 0.1\n",
    "\n",
    "reward = reward + self.board[self.x, self.y]\n",
    "# 3 \"feature\" states instead of 2\n",
    "state = np.concatenate((self.malus_position.reshape(self.grid_size, self.grid_size,1),\n",
    "                                self.board.reshape(self.grid_size, self.grid_size,1),\n",
    "                        self.position.reshape(self.grid_size, self.grid_size,1)),axis=2)"
   ]
  },
  {
   "cell_type": "code",
   "execution_count": null,
   "metadata": {},
   "outputs": [],
   "source": [
    "# Training\n",
    "env = EnvironmentExploring(grid_size=size, max_time=T, temperature=0.3)\n",
    "agent = DQN_CNN(size, lr=.1, epsilon = 0.1, memory_size=2000, batch_size = 32,n_state=3)\n",
    "train_explore(agent, env, epochs_train, prefix='cnn_train_explore')\n",
    "HTML(display_videos('cnn_train_explore10.mp4'))"
   ]
  },
  {
   "cell_type": "code",
   "execution_count": null,
   "metadata": {},
   "outputs": [],
   "source": [
    "# Evaluation\n",
    "test(agent,env,epochs_test,prefix='cnn_test_explore')\n",
    "HTML(display_videos('cnn_test_explore10.mp4'))"
   ]
  },
  {
   "cell_type": "markdown",
   "metadata": {},
   "source": [
    "***\n",
    "***\n",
    "__BONUS question__ Use the expert DQN from the previous question to generate some winning games. Train a model that mimicks its behavior. Compare the performances."
   ]
  },
  {
   "cell_type": "markdown",
   "metadata": {},
   "source": []
  },
  {
   "cell_type": "markdown",
   "metadata": {},
   "source": [
    "***"
   ]
  },
  {
   "cell_type": "code",
   "execution_count": null,
   "metadata": {},
   "outputs": [],
   "source": []
  }
 ],
 "metadata": {
  "kernelspec": {
   "display_name": "Python 3",
   "language": "python",
   "name": "python3"
  },
  "language_info": {
   "codemirror_mode": {
    "name": "ipython",
    "version": 3
   },
   "file_extension": ".py",
   "mimetype": "text/x-python",
   "name": "python",
   "nbconvert_exporter": "python",
   "pygments_lexer": "ipython3",
   "version": "3.6.5"
  }
 },
 "nbformat": 4,
 "nbformat_minor": 2
}
